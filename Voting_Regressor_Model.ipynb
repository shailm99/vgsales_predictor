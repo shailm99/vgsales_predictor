{
 "cells": [
  {
   "cell_type": "code",
   "execution_count": 7,
   "metadata": {},
   "outputs": [],
   "source": [
    "# Load Libaries Needed\n",
    "import pandas as pd\n",
    "import numpy as np\n",
    "import matplotlib.pyplot as plt\n",
    "import seaborn as sns \n",
    "import category_encoders as ce"
   ]
  },
  {
   "cell_type": "code",
   "execution_count": 8,
   "metadata": {},
   "outputs": [],
   "source": [
    "X_train=pd.read_csv('X_train.csv',index_col='Rank')\n",
    "X_test=pd.read_csv('X_test.csv',index_col='Rank')\n",
    "y_train=pd.read_csv('y_train.csv',index_col='Rank')\n",
    "y_test=pd.read_csv('y_test.csv',index_col='Rank')"
   ]
  },
  {
   "cell_type": "code",
   "execution_count": 9,
   "metadata": {},
   "outputs": [
    {
     "name": "stderr",
     "output_type": "stream",
     "text": [
      "/Users/shailmirpuri/opt/anaconda3/envs/vgsales_predict/lib/python3.8/site-packages/category_encoders/utils.py:21: FutureWarning: is_categorical is deprecated and will be removed in a future version.  Use is_categorical_dtype instead\n",
      "  elif pd.api.types.is_categorical(cols):\n"
     ]
    }
   ],
   "source": [
    "# Cat Boost Encoding \n",
    "cat_features= ['Genre', 'Publisher','Device']       \n",
    "target_enc = ce.CatBoostEncoder(cols=cat_features)\n",
    "target_enc.fit(X_train[cat_features], y_train['Global_Sales'])\n",
    "\n",
    "# Transform the features, rename the columns with _target suffix, and join to dataframe\n",
    "train_TE = X_train.join(target_enc.transform(X_train[cat_features]).add_suffix('_target'))\n",
    "test_TE = X_test.join(target_enc.transform(X_test[cat_features]).add_suffix('_target'))"
   ]
  },
  {
   "cell_type": "code",
   "execution_count": 10,
   "metadata": {},
   "outputs": [],
   "source": [
    "X_train=train_TE.drop(columns=cat_features)\n",
    "X_test=test_TE.drop(columns=cat_features)"
   ]
  },
  {
   "cell_type": "code",
   "execution_count": 11,
   "metadata": {},
   "outputs": [],
   "source": [
    "y_train=np.reshape(y_train.values,len(y_train))\n",
    "y_test=np.reshape(y_test.values,len(y_test))"
   ]
  },
  {
   "cell_type": "code",
   "execution_count": 12,
   "metadata": {},
   "outputs": [],
   "source": [
    "bool_features=['FIFA', 'Mario', 'Call of Duty', 'Grand Theft Auto', 'Pokemon', 'Halo',\n",
    "       'Wii', 'NBA']\n",
    "num_features=['Year','NA_Sales As a percentage of Total',\n",
    "       'EU_Sales As a percentage of Total',\n",
    "       'JP_Sales As a percentage of Total',\n",
    "       'Other_Sales As a percentage of Total','Genre_target','Publisher_target','Device_target']"
   ]
  },
  {
   "cell_type": "code",
   "execution_count": 13,
   "metadata": {},
   "outputs": [],
   "source": [
    "# Create Pipeline \n",
    "from sklearn.compose import ColumnTransformer\n",
    "from sklearn.pipeline import Pipeline\n",
    "from sklearn.impute import SimpleImputer\n",
    "from sklearn.preprocessing import MinMaxScaler\n",
    "\n",
    "# Preprocessing for numerical data\n",
    "numerical_transformer = Pipeline(steps=[('imputer',SimpleImputer(strategy='median')),('normalize',MinMaxScaler())])\n",
    "bool_transformer=SimpleImputer(strategy='constant')\n",
    "\n",
    "# Bundle preprocessing for numerical and categorical data\n",
    "preprocessor = ColumnTransformer(\n",
    "    transformers=[\n",
    "        ('num', numerical_transformer, num_features),('bool',bool_transformer,bool_features)])"
   ]
  },
  {
   "cell_type": "code",
   "execution_count": 14,
   "metadata": {},
   "outputs": [],
   "source": [
    "from sklearn.model_selection import train_test_split\n",
    "\n",
    "X_train, X_val, y_train, y_val  = train_test_split(X_train, y_train, test_size=0.25, random_state=1) # 0.25 x 0.9 = 0.22"
   ]
  },
  {
   "cell_type": "code",
   "execution_count": 15,
   "metadata": {},
   "outputs": [],
   "source": [
    "from sklearn.model_selection import cross_val_score\n",
    "from sklearn.metrics import mean_absolute_error\n",
    "def score(model):\n",
    "    my_pipeline = Pipeline(steps=[('preprocessor', preprocessor),\n",
    "                              ('model', model)])\n",
    "    my_pipeline.fit(X_train,y_train)\n",
    "    pred=my_pipeline.predict(X_val)\n",
    "    MAE=mean_absolute_error(pred,y_val)\n",
    "    print(MAE)"
   ]
  },
  {
   "cell_type": "code",
   "execution_count": 16,
   "metadata": {},
   "outputs": [],
   "source": [
    "from xgboost import XGBRegressor\n",
    "from sklearn.ensemble import RandomForestRegressor,VotingRegressor"
   ]
  },
  {
   "cell_type": "code",
   "execution_count": 17,
   "metadata": {},
   "outputs": [],
   "source": [
    "# The best models\n",
    "best_xgb=XGBRegressor(random_state=1,booster='gbtree',eta=0.30,gamma=0,max_depth=6,min_child_weight=1,\n",
    "                      max_delta_step=0,subsample=1,reg_lambda=1,n_estimators=366,tree_method='auto')\n",
    "best_rf=RandomForestRegressor(n_estimators=1000,max_features='sqrt', bootstrap = False,\n",
    "                              max_depth=100,min_samples_split =2,min_samples_leaf = 1,random_state=1)"
   ]
  },
  {
   "cell_type": "code",
   "execution_count": 18,
   "metadata": {},
   "outputs": [
    {
     "name": "stdout",
     "output_type": "stream",
     "text": [
      "0.3067203086684404\n"
     ]
    }
   ],
   "source": [
    "vr=VotingRegressor(estimators=[('rf',best_rf),('xgb',best_xgb)])\n",
    "score(vr)"
   ]
  },
  {
   "cell_type": "code",
   "execution_count": 20,
   "metadata": {},
   "outputs": [
    {
     "name": "stdout",
     "output_type": "stream",
     "text": [
      "0.3067203086684404\n",
      "0.3070206391717407\n",
      "0.30979026410662674\n"
     ]
    }
   ],
   "source": [
    "for i in [[1,1],[2,1],[1,2]]:\n",
    "    vr=VotingRegressor(estimators=[('rf',best_rf),('xgb',best_xgb)],weights=i)\n",
    "    score(vr)"
   ]
  },
  {
   "cell_type": "code",
   "execution_count": 21,
   "metadata": {},
   "outputs": [],
   "source": [
    "# Best Model \n",
    "best_vr=VotingRegressor(estimators=[('rf',best_rf),('xgb',best_xgb)],weights=[1,1])"
   ]
  },
  {
   "cell_type": "code",
   "execution_count": null,
   "metadata": {},
   "outputs": [],
   "source": []
  }
 ],
 "metadata": {
  "kernelspec": {
   "display_name": "Python 3",
   "language": "python",
   "name": "python3"
  },
  "language_info": {
   "codemirror_mode": {
    "name": "ipython",
    "version": 3
   },
   "file_extension": ".py",
   "mimetype": "text/x-python",
   "name": "python",
   "nbconvert_exporter": "python",
   "pygments_lexer": "ipython3",
   "version": "3.8.5"
  }
 },
 "nbformat": 4,
 "nbformat_minor": 4
}
