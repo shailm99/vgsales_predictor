{
 "cells": [
  {
   "cell_type": "code",
   "execution_count": 1,
   "metadata": {},
   "outputs": [],
   "source": [
    "# Load Libaries Needed\n",
    "import pandas as pd\n",
    "import numpy as np\n",
    "import matplotlib.pyplot as plt\n",
    "import seaborn as sns \n",
    "import category_encoders as ce"
   ]
  },
  {
   "cell_type": "code",
   "execution_count": 2,
   "metadata": {},
   "outputs": [],
   "source": [
    "X_train=pd.read_csv('X_train.csv',index_col='Rank')\n",
    "X_test=pd.read_csv('X_test.csv',index_col='Rank')\n",
    "y_train=pd.read_csv('y_train.csv',index_col='Rank')\n",
    "y_test=pd.read_csv('y_test.csv',index_col='Rank')"
   ]
  },
  {
   "cell_type": "code",
   "execution_count": 3,
   "metadata": {},
   "outputs": [
    {
     "name": "stderr",
     "output_type": "stream",
     "text": [
      "/Users/shailmirpuri/opt/anaconda3/envs/vgsales_predict/lib/python3.8/site-packages/category_encoders/utils.py:21: FutureWarning: is_categorical is deprecated and will be removed in a future version.  Use is_categorical_dtype instead\n",
      "  elif pd.api.types.is_categorical(cols):\n"
     ]
    }
   ],
   "source": [
    "# Cat Boost Encoding \n",
    "cat_features= ['Genre','Device']       \n",
    "target_enc = ce.CatBoostEncoder(cols=cat_features)\n",
    "target_enc.fit(X_train[cat_features], y_train['Global_Sales'])\n",
    "\n",
    "# Transform the features, rename the columns with _target suffix, and join to dataframe\n",
    "train_TE = X_train.join(target_enc.transform(X_train[cat_features]).add_suffix('_target'))\n",
    "test_TE = X_test.join(target_enc.transform(X_test[cat_features]).add_suffix('_target'))"
   ]
  },
  {
   "cell_type": "code",
   "execution_count": 4,
   "metadata": {},
   "outputs": [],
   "source": [
    "X_train=train_TE.drop(columns=cat_features)\n",
    "X_test=test_TE.drop(columns=cat_features)"
   ]
  },
  {
   "cell_type": "code",
   "execution_count": 5,
   "metadata": {},
   "outputs": [],
   "source": [
    "y_train=np.reshape(y_train.values,len(y_train))\n",
    "y_test=np.reshape(y_test.values,len(y_test))"
   ]
  },
  {
   "cell_type": "code",
   "execution_count": 6,
   "metadata": {},
   "outputs": [],
   "source": [
    "bool_features=['FIFA', 'Mario', 'Call of Duty', 'Grand Theft Auto', 'Pokemon', 'Halo',\n",
    "       'Wii', 'NBA']\n",
    "num_features=['Year','NA_Sales As a percentage of Total',\n",
    "       'EU_Sales As a percentage of Total',\n",
    "       'JP_Sales As a percentage of Total',\n",
    "       'Other_Sales As a percentage of Total','Genre_target','Device_target']"
   ]
  },
  {
   "cell_type": "code",
   "execution_count": 7,
   "metadata": {},
   "outputs": [],
   "source": [
    "# Create Pipeline \n",
    "from sklearn.compose import ColumnTransformer\n",
    "from sklearn.pipeline import Pipeline\n",
    "from sklearn.impute import SimpleImputer\n",
    "from sklearn.preprocessing import MinMaxScaler\n",
    "\n",
    "# Preprocessing for numerical data\n",
    "numerical_transformer = Pipeline(steps=[('imputer',SimpleImputer(strategy='median')),('normalize',MinMaxScaler())])\n",
    "bool_transformer=SimpleImputer(strategy='constant')\n",
    "\n",
    "# Bundle preprocessing for numerical and categorical data\n",
    "preprocessor = ColumnTransformer(\n",
    "    transformers=[\n",
    "        ('num', numerical_transformer, num_features),('bool',bool_transformer,bool_features)])"
   ]
  },
  {
   "cell_type": "code",
   "execution_count": 8,
   "metadata": {},
   "outputs": [],
   "source": [
    "from sklearn.model_selection import train_test_split\n",
    "# 0.25 x 0.9 = 0.22\n",
    "# 22% of our data will be use to validate our model\n",
    "X_train, X_val, y_train, y_val  = train_test_split(X_train, y_train, test_size=0.25, random_state=1) "
   ]
  },
  {
   "cell_type": "code",
   "execution_count": 9,
   "metadata": {},
   "outputs": [],
   "source": [
    "from sklearn.model_selection import cross_val_score\n",
    "from sklearn.metrics import mean_absolute_error\n",
    "def score(model):\n",
    "    my_pipeline = Pipeline(steps=[('preprocessor', preprocessor),\n",
    "                              ('model', model)])\n",
    "    my_pipeline.fit(X_train,y_train)\n",
    "    pred=my_pipeline.predict(X_val)\n",
    "    MAE=mean_absolute_error(pred,y_val)\n",
    "    print(MAE)"
   ]
  },
  {
   "cell_type": "code",
   "execution_count": 10,
   "metadata": {},
   "outputs": [
    {
     "name": "stdout",
     "output_type": "stream",
     "text": [
      "0.3429873956730685\n"
     ]
    }
   ],
   "source": [
    "# Feature Importance \n",
    "from sklearn.ensemble import ExtraTreesRegressor\n",
    "model=ExtraTreesRegressor()\n",
    "score(model)"
   ]
  },
  {
   "cell_type": "code",
   "execution_count": 11,
   "metadata": {},
   "outputs": [
    {
     "data": {
      "text/plain": [
       "<AxesSubplot:>"
      ]
     },
     "execution_count": 11,
     "metadata": {},
     "output_type": "execute_result"
    },
    {
     "data": {
      "image/png": "[encoded data removed]",
      "text/plain": [
       "<Figure size 432x288 with 1 Axes>"
      ]
     },
     "metadata": {
      "needs_background": "light"
     },
     "output_type": "display_data"
    }
   ],
   "source": [
    "important_features=pd.Series(model.feature_importances_,index=X_train.columns)\n",
    "important_features.nlargest(10).plot(kind='barh')"
   ]
  },
  {
   "cell_type": "code",
   "execution_count": 15,
   "metadata": {},
   "outputs": [],
   "source": [
    "from sklearn.ensemble import RandomForestRegressor"
   ]
  },
  {
   "cell_type": "code",
   "execution_count": 16,
   "metadata": {},
   "outputs": [
    {
     "name": "stdout",
     "output_type": "stream",
     "text": [
      "0.3284777370128015\n"
     ]
    }
   ],
   "source": [
    "rf=RandomForestRegressor(random_state=1)\n",
    "score(rf)"
   ]
  },
  {
   "cell_type": "code",
   "execution_count": 17,
   "metadata": {},
   "outputs": [
    {
     "name": "stdout",
     "output_type": "stream",
     "text": [
      "0.3284777370128015\n",
      "0.3269346264136695\n",
      "0.32658563637839827\n"
     ]
    }
   ],
   "source": [
    "for i in [100,500,1000]:\n",
    "    rf=RandomForestRegressor(n_estimators=i,random_state=1)\n",
    "    score(rf)"
   ]
  },
  {
   "cell_type": "code",
   "execution_count": 19,
   "metadata": {},
   "outputs": [
    {
     "name": "stdout",
     "output_type": "stream",
     "text": [
      "0.3266339336301435\n",
      "0.32370971836609586\n",
      "0.32403186855986227\n"
     ]
    }
   ],
   "source": [
    "for i in ['auto', 'sqrt', 'log2']:\n",
    "    rf=RandomForestRegressor(n_estimators=1000,max_features=i )\n",
    "    score(rf)"
   ]
  },
  {
   "cell_type": "code",
   "execution_count": 20,
   "metadata": {},
   "outputs": [
    {
     "name": "stdout",
     "output_type": "stream",
     "text": [
      "0.3240200153974452\n",
      "0.31758769729124076\n"
     ]
    }
   ],
   "source": [
    "for i in [True,False]:\n",
    "    rf=RandomForestRegressor(n_estimators=1000,max_features='sqrt', bootstrap = i)\n",
    "    score(rf)"
   ]
  },
  {
   "cell_type": "code",
   "execution_count": 21,
   "metadata": {},
   "outputs": [
    {
     "name": "stdout",
     "output_type": "stream",
     "text": [
      "0.36938603057309594\n",
      "0.31676547508364766\n",
      "0.31773073297046556\n",
      "0.31681986771260884\n",
      "0.3167119553138073\n"
     ]
    }
   ],
   "source": [
    "for i in [10,40,60,80,100]:\n",
    "    rf=RandomForestRegressor(n_estimators=1000,max_features='sqrt', bootstrap = False,max_depth =i)\n",
    "    score(rf)"
   ]
  },
  {
   "cell_type": "code",
   "execution_count": 22,
   "metadata": {},
   "outputs": [
    {
     "name": "stdout",
     "output_type": "stream",
     "text": [
      "0.31733222981498654\n",
      "0.3203917993885187\n",
      "0.32337624096009604\n"
     ]
    }
   ],
   "source": [
    "for i in [2, 5, 10]:\n",
    "    rf=RandomForestRegressor(n_estimators=1000,max_features='sqrt', bootstrap = False,max_depth=100,min_samples_split =i)\n",
    "    score(rf)"
   ]
  },
  {
   "cell_type": "code",
   "execution_count": 23,
   "metadata": {},
   "outputs": [
    {
     "name": "stdout",
     "output_type": "stream",
     "text": [
      "0.3171386183787655\n",
      "0.32322284850227895\n",
      "0.3311527654887186\n",
      "0.34067415050792543\n",
      "0.3466303398710195\n",
      "0.3529233945197684\n"
     ]
    }
   ],
   "source": [
    "for i in [1, 2, 4,6,8,10]:\n",
    "    rf=RandomForestRegressor(n_estimators=1000,max_features='sqrt', bootstrap = False,max_depth=100,min_samples_split =2,min_samples_leaf = i)\n",
    "    score(rf)"
   ]
  },
  {
   "cell_type": "code",
   "execution_count": 24,
   "metadata": {},
   "outputs": [
    {
     "name": "stdout",
     "output_type": "stream",
     "text": [
      "0.3170920445256811\n",
      "0.31710024844187507\n",
      "0.31704132056369566\n",
      "0.31709309057584306\n",
      "0.31686486303994993\n"
     ]
    }
   ],
   "source": [
    "for i in range(600,1001,100):\n",
    "    rf=RandomForestRegressor(n_estimators=i,max_features='sqrt', bootstrap = False,\n",
    "                              max_depth=100,min_samples_split =2,min_samples_leaf = 1,random_state=1)\n",
    "    score(rf)"
   ]
  },
  {
   "cell_type": "code",
   "execution_count": 26,
   "metadata": {},
   "outputs": [],
   "source": [
    "# The best hyperparameters \n",
    "best_rf=RandomForestRegressor(n_estimators=1000,max_features='sqrt', bootstrap = False,\n",
    "                              max_depth=100,min_samples_split =2,min_samples_leaf = 1,random_state=1)"
   ]
  }
 ],
 "metadata": {
  "kernelspec": {
   "display_name": "Python 3",
   "language": "python",
   "name": "python3"
  },
  "language_info": {
   "codemirror_mode": {
    "name": "ipython",
    "version": 3
   },
   "file_extension": ".py",
   "mimetype": "text/x-python",
   "name": "python",
   "nbconvert_exporter": "python",
   "pygments_lexer": "ipython3",
   "version": "3.8.5"
  }
 },
 "nbformat": 4,
 "nbformat_minor": 4
}
