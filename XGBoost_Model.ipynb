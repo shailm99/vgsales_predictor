{
 "cells": [
  {
   "cell_type": "code",
   "execution_count": 1,
   "metadata": {},
   "outputs": [],
   "source": [
    "# Load Libaries Needed\n",
    "import pandas as pd\n",
    "import numpy as np\n",
    "import matplotlib.pyplot as plt\n",
    "import seaborn as sns \n",
    "import category_encoders as ce"
   ]
  },
  {
   "cell_type": "code",
   "execution_count": 2,
   "metadata": {},
   "outputs": [],
   "source": [
    "X_train=pd.read_csv('X_train.csv',index_col='Rank')\n",
    "X_test=pd.read_csv('X_test.csv',index_col='Rank')\n",
    "y_train=pd.read_csv('y_train.csv',index_col='Rank')\n",
    "y_test=pd.read_csv('y_test.csv',index_col='Rank')"
   ]
  },
  {
   "cell_type": "code",
   "execution_count": 3,
   "metadata": {},
   "outputs": [
    {
     "name": "stderr",
     "output_type": "stream",
     "text": [
      "/Users/shailmirpuri/opt/anaconda3/envs/vgsales_predict/lib/python3.8/site-packages/category_encoders/utils.py:21: FutureWarning: is_categorical is deprecated and will be removed in a future version.  Use is_categorical_dtype instead\n",
      "  elif pd.api.types.is_categorical(cols):\n"
     ]
    }
   ],
   "source": [
    "# Cat Boost Encoding \n",
    "cat_features= ['Genre','Device']       \n",
    "target_enc = ce.CatBoostEncoder(cols=cat_features)\n",
    "target_enc.fit(X_train[cat_features], y_train['Global_Sales'])\n",
    "\n",
    "# Transform the features, rename the columns with _target suffix, and join to dataframe\n",
    "train_TE = X_train.join(target_enc.transform(X_train[cat_features]).add_suffix('_target'))\n",
    "test_TE = X_test.join(target_enc.transform(X_test[cat_features]).add_suffix('_target'))"
   ]
  },
  {
   "cell_type": "code",
   "execution_count": 4,
   "metadata": {},
   "outputs": [],
   "source": [
    "X_train=train_TE.drop(columns=cat_features)\n",
    "X_test=test_TE.drop(columns=cat_features)"
   ]
  },
  {
   "cell_type": "code",
   "execution_count": 5,
   "metadata": {},
   "outputs": [],
   "source": [
    "y_train=np.reshape(y_train.values,len(y_train))\n",
    "y_test=np.reshape(y_test.values,len(y_test))"
   ]
  },
  {
   "cell_type": "code",
   "execution_count": 6,
   "metadata": {},
   "outputs": [],
   "source": [
    "bool_features=['FIFA', 'Mario', 'Call of Duty', 'Grand Theft Auto', 'Pokemon', 'Halo',\n",
    "       'Wii', 'NBA']\n",
    "num_features=['Year','NA_Sales As a percentage of Total',\n",
    "       'EU_Sales As a percentage of Total',\n",
    "       'JP_Sales As a percentage of Total',\n",
    "       'Other_Sales As a percentage of Total','Genre_target','Device_target']"
   ]
  },
  {
   "cell_type": "code",
   "execution_count": 7,
   "metadata": {},
   "outputs": [],
   "source": [
    "# Create Pipeline \n",
    "from sklearn.compose import ColumnTransformer\n",
    "from sklearn.pipeline import Pipeline\n",
    "from sklearn.impute import SimpleImputer\n",
    "from sklearn.preprocessing import MinMaxScaler\n",
    "\n",
    "# Preprocessing for numerical data\n",
    "numerical_transformer = Pipeline(steps=[('imputer',SimpleImputer(strategy='median')),('normalize',MinMaxScaler())])\n",
    "bool_transformer=SimpleImputer(strategy='constant')\n",
    "\n",
    "# Bundle preprocessing for numerical and categorical data\n",
    "preprocessor = ColumnTransformer(\n",
    "    transformers=[\n",
    "        ('num', numerical_transformer, num_features),('bool',bool_transformer,bool_features)])"
   ]
  },
  {
   "cell_type": "code",
   "execution_count": 8,
   "metadata": {},
   "outputs": [],
   "source": [
    "from sklearn.model_selection import train_test_split\n",
    "\n",
    "X_train, X_val, y_train, y_val  = train_test_split(X_train, y_train, test_size=0.25, random_state=1) # 0.25 x 0.9 = 0.22"
   ]
  },
  {
   "cell_type": "code",
   "execution_count": 10,
   "metadata": {},
   "outputs": [],
   "source": [
    "from sklearn.model_selection import cross_val_score\n",
    "from sklearn.metrics import mean_absolute_error\n",
    "def score(model):\n",
    "    my_pipeline = Pipeline(steps=[('preprocessor', preprocessor),\n",
    "                              ('model', model)])\n",
    "    my_pipeline.fit(X_train,y_train)\n",
    "    pred=my_pipeline.predict(X_val)\n",
    "    MAE=mean_absolute_error(pred,y_val)\n",
    "    print(MAE)"
   ]
  },
  {
   "cell_type": "code",
   "execution_count": 11,
   "metadata": {},
   "outputs": [],
   "source": [
    "from xgboost import XGBRegressor"
   ]
  },
  {
   "cell_type": "code",
   "execution_count": 30,
   "metadata": {},
   "outputs": [
    {
     "name": "stdout",
     "output_type": "stream",
     "text": [
      "0.33654354540953835\n"
     ]
    }
   ],
   "source": [
    "xgb=XGBRegressor(random_state=1)\n",
    "score(xgb)"
   ]
  },
  {
   "cell_type": "code",
   "execution_count": 35,
   "metadata": {},
   "outputs": [
    {
     "name": "stdout",
     "output_type": "stream",
     "text": [
      "0.33654354540953835\n",
      "0.32670909258352226\n",
      "0.3251101127848568\n",
      "0.32552496919829843\n",
      "0.3252835363642757\n",
      "0.3264922784392933\n",
      "0.32666490099931184\n",
      "0.3270007283808876\n",
      "0.3274039328465341\n",
      "0.32727535853615725\n"
     ]
    }
   ],
   "source": [
    "for i in range(100,1001,100):\n",
    "    xgb=XGBRegressor(n_estimators=i,random_state=1)\n",
    "    score(xgb)"
   ]
  },
  {
   "cell_type": "code",
   "execution_count": 36,
   "metadata": {},
   "outputs": [
    {
     "name": "stdout",
     "output_type": "stream",
     "text": [
      "0.3251101127848568\n",
      "0.325014061353612\n",
      "0.3249946553161346\n",
      "0.32490491376950875\n",
      "0.3248621706534901\n",
      "0.32552496919829843\n"
     ]
    }
   ],
   "source": [
    "for i in range(300,401,20):\n",
    "    xgb=XGBRegressor(n_estimators=i,random_state=1)\n",
    "    score(xgb)"
   ]
  },
  {
   "cell_type": "code",
   "execution_count": 40,
   "metadata": {},
   "outputs": [
    {
     "name": "stdout",
     "output_type": "stream",
     "text": [
      "0.32479225216269336\n",
      "0.32478958106168626\n",
      "0.32481723395121626\n"
     ]
    }
   ],
   "source": [
    "for i in [365,366,373]:\n",
    "    xgb=XGBRegressor(n_estimators=i,random_state=1)\n",
    "    score(xgb)"
   ]
  },
  {
   "cell_type": "code",
   "execution_count": 43,
   "metadata": {},
   "outputs": [
    {
     "name": "stdout",
     "output_type": "stream",
     "text": [
      "0.32478958106168626\n",
      "0.5293029650737004\n",
      "0.32478956096207445\n"
     ]
    }
   ],
   "source": [
    "for i in ['gbtree', 'gblinear','dart']:\n",
    "    xgb= XGBRegressor(random_state=1,booster=i,n_estimators=366)\n",
    "    score(xgb)"
   ]
  },
  {
   "cell_type": "code",
   "execution_count": 44,
   "metadata": {},
   "outputs": [
    {
     "name": "stdout",
     "output_type": "stream",
     "text": [
      "0.38140600718392265\n",
      "0.33921942468883204\n",
      "0.33477309328485205\n",
      "0.3310265791004442\n",
      "0.32478958106168626\n",
      "0.33498222828262464\n",
      "0.3481255724525835\n"
     ]
    }
   ],
   "source": [
    "for i in [0.01,0.05,0.10,0.20,0.30,0.40,0.50]:\n",
    "    xgb= XGBRegressor(random_state=1,booster='gbtree',eta=i,n_estimators=366)\n",
    "    score(xgb)"
   ]
  },
  {
   "cell_type": "code",
   "execution_count": 45,
   "metadata": {},
   "outputs": [
    {
     "name": "stdout",
     "output_type": "stream",
     "text": [
      "0.32478958106168626\n",
      "0.3519633320373704\n",
      "0.37185553888942663\n",
      "0.4120707264919996\n",
      "0.43241668701905966\n",
      "0.427587191934726\n",
      "0.4946960793473475\n"
     ]
    }
   ],
   "source": [
    "for i in [0,1,10,100,150,200,500]:\n",
    "    xgb= XGBRegressor(random_state=1,booster='gbtree',eta=0.30,gamma=i,n_estimators=366)\n",
    "    score(xgb)"
   ]
  },
  {
   "cell_type": "code",
   "execution_count": 46,
   "metadata": {},
   "outputs": [
    {
     "name": "stdout",
     "output_type": "stream",
     "text": [
      "0.3690373064539678\n",
      "0.34210998643769164\n",
      "0.3374640834995382\n",
      "0.32478958106168626\n",
      "0.3282431797457827\n",
      "0.33022374830986445\n",
      "0.32736018033710673\n",
      "0.32550494685198567\n"
     ]
    }
   ],
   "source": [
    "for i in range(3,11):\n",
    "    xgb= XGBRegressor(random_state=1,booster='gbtree',eta=0.30,gamma=0,max_depth=i,n_estimators=366)\n",
    "    score(xgb)"
   ]
  },
  {
   "cell_type": "code",
   "execution_count": 47,
   "metadata": {},
   "outputs": [
    {
     "name": "stdout",
     "output_type": "stream",
     "text": [
      "0.32478958106168626\n",
      "0.32478958106168626\n",
      "0.365903685411775\n",
      "0.4074481874358063\n"
     ]
    }
   ],
   "source": [
    "for i in [0,1,10,100]:\n",
    "    xgb= XGBRegressor(random_state=1,booster='gbtree',eta=0.30,gamma=0,max_depth=6,\n",
    "                      min_child_weight=i,n_estimators=366)\n",
    "    score(xgb)"
   ]
  },
  {
   "cell_type": "code",
   "execution_count": 48,
   "metadata": {},
   "outputs": [
    {
     "name": "stdout",
     "output_type": "stream",
     "text": [
      "0.32478958106168626\n",
      "0.344363062437918\n",
      "0.34282561629651537\n",
      "0.33747851641909027\n",
      "0.3443548468467861\n",
      "0.3367086231794702\n",
      "0.3428323244250603\n",
      "0.3408173110098883\n",
      "0.3355279991805474\n",
      "0.34190445465862834\n",
      "0.34181159295135716\n"
     ]
    }
   ],
   "source": [
    "for i in range(0,11):\n",
    "    xgb= XGBRegressor(random_state=1,booster='gbtree',eta=0.30,gamma=0,max_depth=6,\n",
    "                      min_child_weight=1,max_delta_step=i,n_estimators=366)\n",
    "    score(xgb)"
   ]
  },
  {
   "cell_type": "code",
   "execution_count": 49,
   "metadata": {},
   "outputs": [
    {
     "name": "stdout",
     "output_type": "stream",
     "text": [
      "0.3654080731498509\n",
      "0.35885757618512176\n",
      "0.3528037990154511\n",
      "0.3438430081333022\n",
      "0.3399387776870805\n",
      "0.32478958106168626\n"
     ]
    }
   ],
   "source": [
    "for i in [0.5,0.6,0.7,0.8,0.9,1]:    \n",
    "    xgb= XGBRegressor(random_state=1,booster='gbtree',eta=0.30,gamma=0,max_depth=6,min_child_weight=1,\n",
    "                      max_delta_step=0,subsample=i,n_estimators=366)\n",
    "    score(xgb)"
   ]
  },
  {
   "cell_type": "code",
   "execution_count": 50,
   "metadata": {},
   "outputs": [
    {
     "name": "stdout",
     "output_type": "stream",
     "text": [
      "0.3370097028513351\n",
      "0.3360739723637082\n",
      "0.3306754137952644\n",
      "0.32478958106168626\n",
      "0.3507875737294933\n"
     ]
    }
   ],
   "source": [
    "for i in [0.001,0.01,0.1,1,100]:\n",
    "    xgb= XGBRegressor(random_state=1,booster='gbtree',eta=0.30,gamma=0,max_depth=6,min_child_weight=1,\n",
    "                      max_delta_step=0,subsample=1,reg_lambda=i,n_estimators=366)\n",
    "    score(xgb)"
   ]
  },
  {
   "cell_type": "code",
   "execution_count": 51,
   "metadata": {},
   "outputs": [
    {
     "name": "stdout",
     "output_type": "stream",
     "text": [
      "0.32478958106168626\n",
      "0.32478958106168626\n",
      "0.36109323158608864\n",
      "0.34415660885219757\n"
     ]
    }
   ],
   "source": [
    "for i in ['auto', 'exact', 'approx', 'hist']:\n",
    "    xgb= XGBRegressor(random_state=1,booster='gbtree',eta=0.30,gamma=0,max_depth=6,min_child_weight=1,\n",
    "                      max_delta_step=0,subsample=1,reg_lambda=1,tree_method=i,n_estimators=366)\n",
    "    score(xgb)"
   ]
  },
  {
   "cell_type": "code",
   "execution_count": 52,
   "metadata": {},
   "outputs": [],
   "source": [
    "# The best hyperparameters \n",
    "best_xgb=XGBRegressor(random_state=1,booster='gbtree',eta=0.30,gamma=0,max_depth=6,min_child_weight=1,\n",
    "                      max_delta_step=0,subsample=1,reg_lambda=1,n_estimators=366,tree_method='auto')"
   ]
  }
 ],
 "metadata": {
  "kernelspec": {
   "display_name": "Python 3",
   "language": "python",
   "name": "python3"
  },
  "language_info": {
   "codemirror_mode": {
    "name": "ipython",
    "version": 3
   },
   "file_extension": ".py",
   "mimetype": "text/x-python",
   "name": "python",
   "nbconvert_exporter": "python",
   "pygments_lexer": "ipython3",
   "version": "3.8.5"
  }
 },
 "nbformat": 4,
 "nbformat_minor": 4
}
